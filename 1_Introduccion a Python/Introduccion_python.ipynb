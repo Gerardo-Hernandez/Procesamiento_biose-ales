{
 "cells": [
  {
   "attachments": {},
   "cell_type": "markdown",
   "metadata": {},
   "source": [
    "# Conceptos básicos de programación"
   ]
  },
  {
   "attachments": {},
   "cell_type": "markdown",
   "metadata": {},
   "source": [
    "Variables: una variable es una ubicación de almacenamiento con nombre que contiene un valor, que se puede cambiar a medida que se ejecuta el programa."
   ]
  },
  {
   "cell_type": "code",
   "execution_count": 1,
   "metadata": {},
   "outputs": [
    {
     "name": "stdout",
     "output_type": "stream",
     "text": [
      "z = 30\n"
     ]
    }
   ],
   "source": [
    "# Variables\n",
    "x = 10\n",
    "y = 20\n",
    "z = x + y\n",
    "print(\"z =\", z)"
   ]
  },
  {
   "attachments": {},
   "cell_type": "markdown",
   "metadata": {},
   "source": [
    "Tipos de datos: diferentes tipos de datos, como números enteros, números de coma flotante, cadenas y valores booleanos, se pueden almacenar en variables y manipular de diferentes maneras."
   ]
  },
  {
   "cell_type": "code",
   "execution_count": 2,
   "metadata": {},
   "outputs": [
    {
     "name": "stdout",
     "output_type": "stream",
     "text": [
      "Name: John\n",
      "Age: 30\n",
      "Is Male: True\n"
     ]
    }
   ],
   "source": [
    "# Data Types\n",
    "name = \"John\"\n",
    "age = 30\n",
    "is_male = True\n",
    "print(\"Name:\", name)\n",
    "print(\"Age:\", age)\n",
    "print(\"Is Male:\", is_male)"
   ]
  },
  {
   "attachments": {},
   "cell_type": "markdown",
   "metadata": {},
   "source": [
    "Operadores: Los operadores son símbolos que realizan operaciones sobre valores y variables, como suma, resta, multiplicación y división."
   ]
  },
  {
   "cell_type": "code",
   "execution_count": 3,
   "metadata": {},
   "outputs": [
    {
     "name": "stdout",
     "output_type": "stream",
     "text": [
      "c = 15\n",
      "d = 5\n",
      "e = 50\n",
      "f = 2.0\n"
     ]
    }
   ],
   "source": [
    "a = 10\n",
    "b = 5\n",
    "c = a + b\n",
    "d = a - b\n",
    "e = a * b\n",
    "f = a / b\n",
    "print(\"c =\", c)\n",
    "print(\"d =\", d)\n",
    "print(\"e =\", e)\n",
    "print(\"f =\", f)"
   ]
  },
  {
   "attachments": {},
   "cell_type": "markdown",
   "metadata": {},
   "source": [
    "Declaraciones condicionales: se utilizan para tomar decisiones en función de los valores de las variables. Por ejemplo, se puede usar una declaración if para determinar si un valor es mayor, menor o igual que otro valor."
   ]
  },
  {
   "cell_type": "code",
   "execution_count": 4,
   "metadata": {},
   "outputs": [
    {
     "name": "stdout",
     "output_type": "stream",
     "text": [
      "Pass\n"
     ]
    }
   ],
   "source": [
    "\n",
    "# Conditional Statements\n",
    "mark = 75\n",
    "if mark >= 60:\n",
    "    print(\"Pass\")\n",
    "else:\n",
    "    print(\"Fail\")"
   ]
  },
  {
   "attachments": {},
   "cell_type": "markdown",
   "metadata": {},
   "source": [
    "Bucles: los bucles permiten que un bloque de código se ejecute repetidamente en función de una condición. Por ejemplo, se puede usar un bucle for para iterar sobre una lista de valores."
   ]
  },
  {
   "cell_type": "code",
   "execution_count": 5,
   "metadata": {},
   "outputs": [
    {
     "name": "stdout",
     "output_type": "stream",
     "text": [
      "10\n",
      "20\n",
      "30\n",
      "40\n",
      "50\n"
     ]
    }
   ],
   "source": [
    "numbers = [10, 20, 30, 40, 50]\n",
    "for num in numbers:\n",
    "    print(num)"
   ]
  },
  {
   "attachments": {},
   "cell_type": "markdown",
   "metadata": {},
   "source": [
    "Funciones: las funciones son bloques de código reutilizable que se pueden llamar varias veces desde diferentes partes de un programa. Toman entradas (argumentos) y devuelven salidas (valores de retorno)."
   ]
  },
  {
   "cell_type": "code",
   "execution_count": 6,
   "metadata": {},
   "outputs": [
    {
     "name": "stdout",
     "output_type": "stream",
     "text": [
      "Result: 30\n"
     ]
    }
   ],
   "source": [
    "\n",
    "# Functions\n",
    "def add(a, b):\n",
    "    return a + b\n",
    "\n",
    "result = add(10, 20)\n",
    "print(\"Result:\", result)"
   ]
  },
  {
   "attachments": {},
   "cell_type": "markdown",
   "metadata": {},
   "source": [
    "Matrices: las matrices son estructuras de datos que almacenan colecciones de valores y se pueden manipular mediante bucles y funciones."
   ]
  },
  {
   "cell_type": "code",
   "execution_count": 7,
   "metadata": {},
   "outputs": [
    {
     "name": "stdout",
     "output_type": "stream",
     "text": [
      "apple\n",
      "banana\n",
      "cherry\n"
     ]
    }
   ],
   "source": [
    "# Arrays\n",
    "fruits = [\"apple\", \"banana\", \"cherry\"]\n",
    "for fruit in fruits:\n",
    "    print(fruit)"
   ]
  },
  {
   "attachments": {},
   "cell_type": "markdown",
   "metadata": {},
   "source": [
    "Entrada/Salida: Los programas pueden recibir entradas del usuario o de un archivo y producir salidas que se pueden mostrar en la pantalla o guardar en un archivo."
   ]
  },
  {
   "cell_type": "code",
   "execution_count": 8,
   "metadata": {},
   "outputs": [
    {
     "name": "stdout",
     "output_type": "stream",
     "text": [
      "Hello Juan\n"
     ]
    }
   ],
   "source": [
    "# Input/Output\n",
    "name = input(\"Enter your name:\")\n",
    "print(\"Hello\", name)"
   ]
  },
  {
   "attachments": {},
   "cell_type": "markdown",
   "metadata": {},
   "source": [
    "Depuración: La depuración es el proceso de identificar y corregir errores (bugs) en un programa. Esto puede implicar el uso de herramientas como declaraciones de impresión y el depurador para encontrar y corregir problemas en el código."
   ]
  },
  {
   "cell_type": "code",
   "execution_count": 9,
   "metadata": {},
   "outputs": [
    {
     "name": "stdout",
     "output_type": "stream",
     "text": [
      "z = 30\n"
     ]
    }
   ],
   "source": [
    "# Debugging\n",
    "# Using print statements to debug code\n",
    "x = 10\n",
    "y = 20\n",
    "z = x + y\n",
    "print(\"z =\", z)"
   ]
  },
  {
   "cell_type": "code",
   "execution_count": null,
   "metadata": {},
   "outputs": [],
   "source": []
  }
 ],
 "metadata": {
  "kernelspec": {
   "display_name": "Python 3",
   "language": "python",
   "name": "python3"
  },
  "language_info": {
   "codemirror_mode": {
    "name": "ipython",
    "version": 3
   },
   "file_extension": ".py",
   "mimetype": "text/x-python",
   "name": "python",
   "nbconvert_exporter": "python",
   "pygments_lexer": "ipython3",
   "version": "3.9.10"
  },
  "orig_nbformat": 4,
  "vscode": {
   "interpreter": {
    "hash": "87232659f9dd4893072a1b661ccf19c7c1dacb89b4a39aa1a56801d53a1d70d2"
   }
  }
 },
 "nbformat": 4,
 "nbformat_minor": 2
}
