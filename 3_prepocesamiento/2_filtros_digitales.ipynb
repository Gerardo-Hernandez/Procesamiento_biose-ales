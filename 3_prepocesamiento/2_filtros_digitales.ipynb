{
 "cells": [
  {
   "attachments": {},
   "cell_type": "markdown",
   "metadata": {
    "pycharm": {
     "name": "#%% md\n"
    }
   },
   "source": [
    "# Introducción a Filtros Digitales\n",
    "- [Introducción](#introducción)\n",
    "- [Aplicaciones de filtros digitales](#aplicaciones-de-filtros-digitales)\n",
    "- [Tipos de filtros digitales](#tipos-de-filtros-digitales)\n",
    "- [Diseño de filtros digitales](#diseño-de-filtros-digitales)\n",
    "- [Implementación de filtros digitales en Python](#implementación-de-filtros-digitales-en-python)"
   ]
  },
  {
   "attachments": {},
   "cell_type": "markdown",
   "metadata": {
    "pycharm": {
     "name": "#%% md\n"
    }
   },
   "source": [
    "## Introducción"
   ]
  },
  {
   "attachments": {},
   "cell_type": "markdown",
   "metadata": {
    "pycharm": {
     "name": "#%% md\n"
    }
   },
   "source": [
    "En ingeniería electrónica, un filtro es un sistema que permite manipular el contenido en frecuencia de una señal de acuerdo a los requerimientos establecidos. Por ejemplo, un filtro puede ser utilizado para amplificar o atenuar un rango de frecuencias, o bien para eliminar o aislar un componente en frecuencia específico.\n",
    "\n",
    "Los filtros se suelen componer de varios elementos, entre los que destacan:\n",
    "- Magnitud:\n",
    "    - Valor que representa la ganancia del componente en frecuencia.\n",
    "    - Usualmente denotado en $dB$.\n",
    "    - Cuando es 0 se busca mantener intacto el componente en frecuencia.\n",
    "    - Cuando es menor a 0 se busca atenuar el componente en frecuencia.\n",
    "    - Cuando es mayor a 1 se busca amplificar el componente en frecuencia.\n",
    "    - Usualmente se denota como $H_\\omega$.\n",
    "- Banda de paso:\n",
    "    - Rango de frecuencias que se busca mantener o amplificar.\n",
    "- Banda de rechazo:\n",
    "    - Rango de frecuencias que se busca atenuar.\n",
    "- Frecuencia de corte:\n",
    "    - Valor o valores en los que se presenta un cambio entre banda de paso y rechazo.\n",
    "    - Este valor está determinado por la frecuencia en la que se consigue una magnitud de $-3 db$.\n",
    "    - Usualmente se denota como $\\omega_{c}$.\n"
   ]
  },
  {
   "attachments": {},
   "cell_type": "markdown",
   "metadata": {
    "pycharm": {
     "name": "#%% md\n"
    }
   },
   "source": [
    "## Aplicaciones de filtros digitales"
   ]
  },
  {
   "attachments": {},
   "cell_type": "markdown",
   "metadata": {},
   "source": [
    "- Procesamiento de audio: Los filtros digitales se utilizan en aplicaciones de procesamiento de audio, como la mejora de la calidad de sonido, la eliminación de ruido y la ecualización.\n",
    "- Comunicaciones: Los filtros digitales son esenciales en la transmisión de datos y señales de voz en sistemas de comunicaciones.\n",
    "- Imágenes: Se utilizan filtros digitales en aplicaciones de procesamiento de imágenes para mejorar la claridad, reducir el ruido y realizar operaciones como la detección de bordes.\n",
    "- Análisis de señales: Los filtros digitales se utilizan en aplicaciones de análisis de señales para extraer información útil de una señal y para reducir el ruido y la interferencia.\n",
    "- Control de sistemas: Los filtros digitales se utilizan en sistemas de control para modelar y controlar la dinámica de sistemas reales.\n",
    "- Procesamiento de señales médicas: Los filtros digitales se utilizan en aplicaciones médicas para procesar y analizar señales médicas, como electrocardiogramas."
   ]
  },
  {
   "attachments": {},
   "cell_type": "markdown",
   "metadata": {},
   "source": [
    "## Tipos de filtros digitales"
   ]
  },
  {
   "attachments": {},
   "cell_type": "markdown",
   "metadata": {},
   "source": [
    "### Clasificación según bandas de paso\n",
    "La principal clasificación de los filtros digitales se basa en los intervalos de su banda de paso, en la cual existen 4 filtros principales.\n",
    "\n",
    "Este sistema de clasificación aplica igual para los filtros analógicos."
   ]
  },
  {
   "attachments": {},
   "cell_type": "markdown",
   "metadata": {},
   "source": [
    "#### Filtro pasa bajas\n",
    "- Cuenta con una única frecuencia de corte ($\\omega_{c}$).\n",
    "- Su banda de paso es el intervalo [0, $\\omega_{c}$).\n",
    "- Su banda de rechazo es el intervalo [$\\omega_{c}$, $\\infty$).\n",
    "\n",
    "<img src=\"./figures/pasa_baja.png\" width=\"400\">"
   ]
  },
  {
   "attachments": {},
   "cell_type": "markdown",
   "metadata": {},
   "source": [
    "#### Filtro pasa altas\n",
    "- Cuenta con una única frecuencia de corte ($\\omega_{c}$).\n",
    "- Su banda de paso es el intervalo ($\\omega_{c}$, $\\infty$).\n",
    "- Su banda de rechazo es el intervalo [0, $\\omega_{c}$].\n",
    "\n",
    "<img src=\"./figures/pasa_alta.png\" width=\"400\">"
   ]
  },
  {
   "attachments": {},
   "cell_type": "markdown",
   "metadata": {},
   "source": [
    "#### Filtro pasa banda\n",
    "- Cuenta con dos frecuencias de corte ($\\omega_{c1}$ y $\\omega_{c2}$).\n",
    "- Su banda de paso es el intervalo ($\\omega_{c1}$, $\\omega_{c2}$).\n",
    "- Sus bandas de rechazo son los intervalos [0, $\\omega_{c1}$] y [$\\omega_{c2}$, $\\infty$).\n",
    "\n",
    "<img src=\"./figures/pasa_banda.png\" width=\"400\">"
   ]
  },
  {
   "attachments": {},
   "cell_type": "markdown",
   "metadata": {},
   "source": [
    "#### Filtro rechaza banda\n",
    "- Cuenta con dos frecuencias de corte ($\\omega_{c1}$ y $\\omega_{c2}$).\n",
    "- Sus bandas de paso son los intervalos [0, $\\omega_{c1}$) y ($\\omega_{c2}$, $\\infty$).\n",
    "- Su banda de rechazo es el intervalo [$\\omega_{c1}$, $\\omega_{c2}$].\n",
    "\n",
    "<img src=\"./figures/rechaza_banda.png\" width=\"400\">"
   ]
  },
  {
   "attachments": {},
   "cell_type": "markdown",
   "metadata": {
    "pycharm": {
     "name": "#%% md\n"
    }
   },
   "source": [
    ">Observación: Las figuras mostradas anteriormente muestran la respuesta en frecuencia de filtros ideales, sin embargo, más adelante observaremos que los filtros reales presentan ligeros cambios respecto a los ideales."
   ]
  },
  {
   "attachments": {},
   "cell_type": "markdown",
   "metadata": {},
   "source": [
    "### Clasificación según tipo de respuesta al impulso\n",
    "Otra clasificación de los filtros digitales toma como referencia el tipo de respuesta al impulso que tiene cada filtro."
   ]
  },
  {
   "attachments": {},
   "cell_type": "markdown",
   "metadata": {},
   "source": [
    "#### Respuesta al impulso infinita (IIR)\n",
    "Los filtros de respuesta al impulso infinita (también llamados recursivos) suelen conseguir implementaciones con orden de filtro mucho menor, sin embargo presentan una fase no lineal."
   ]
  },
  {
   "attachments": {},
   "cell_type": "markdown",
   "metadata": {},
   "source": [
    "##### Filtros Butterworth"
   ]
  },
  {
   "attachments": {},
   "cell_type": "markdown",
   "metadata": {},
   "source": [
    "##### Filtros Chebyshev tipo 1"
   ]
  },
  {
   "attachments": {},
   "cell_type": "markdown",
   "metadata": {},
   "source": [
    "##### Filtros Chebyshev tipo 2"
   ]
  },
  {
   "attachments": {},
   "cell_type": "markdown",
   "metadata": {},
   "source": [
    "##### Filtros elípticos"
   ]
  },
  {
   "attachments": {},
   "cell_type": "markdown",
   "metadata": {},
   "source": [
    "#### Respuesta al impulso finita (FIR)\n",
    "Los filtros de respuesta al impulso finita (también llamados no recursivos)"
   ]
  },
  {
   "attachments": {},
   "cell_type": "markdown",
   "metadata": {},
   "source": [
    "##### Tipo 1"
   ]
  },
  {
   "attachments": {},
   "cell_type": "markdown",
   "metadata": {},
   "source": [
    "##### Tipo 2"
   ]
  },
  {
   "attachments": {},
   "cell_type": "markdown",
   "metadata": {},
   "source": [
    "##### Tipo 3"
   ]
  },
  {
   "attachments": {},
   "cell_type": "markdown",
   "metadata": {
    "pycharm": {
     "name": "#%% md\n"
    }
   },
   "source": [
    "## Diseño de filtros digitales"
   ]
  },
  {
   "attachments": {},
   "cell_type": "markdown",
   "metadata": {
    "pycharm": {
     "name": "#%% md\n"
    }
   },
   "source": [
    "## Implementación de filtros digitales en Python"
   ]
  }
 ],
 "metadata": {
  "kernelspec": {
   "display_name": "Python 3",
   "language": "python",
   "name": "python3"
  },
  "language_info": {
   "name": "python",
   "version": "3.10.6"
  },
  "orig_nbformat": 4,
  "vscode": {
   "interpreter": {
    "hash": "916dbcbb3f70747c44a77c7bcd40155683ae19c65e1c03b4aa3499c5328201f1"
   }
  }
 },
 "nbformat": 4,
 "nbformat_minor": 2
}
