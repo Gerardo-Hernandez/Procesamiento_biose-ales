{
 "cells": [
  {
   "attachments": {},
   "cell_type": "markdown",
   "metadata": {},
   "source": [
    "# Características de las bioseñales"
   ]
  },
  {
   "attachments": {},
   "cell_type": "markdown",
   "metadata": {},
   "source": [
    "## Electrocardiografía"
   ]
  },
  {
   "attachments": {},
   "cell_type": "markdown",
   "metadata": {},
   "source": [
    "Ancho de banda: 0.05 - 100 Hz\n",
    "\n",
    "Amplitudes\n",
    "\n",
    "Imagen"
   ]
  },
  {
   "attachments": {},
   "cell_type": "markdown",
   "metadata": {},
   "source": [
    "## Electroencefalografía"
   ]
  },
  {
   "attachments": {},
   "cell_type": "markdown",
   "metadata": {},
   "source": [
    "Ancho de banda: 0.5 - 100 Hz. \n",
    "A su vez esa este rango se divide en diferentes bandas de frecuencia, cada una asociada con diferentes estados mentales y actividades cerebrales:\n",
    "\n",
    "* Ondas Delta (0.5 a 4 Hz): Se encuentran predominantemente en el sueño profundo y en algunas condiciones patológicas.\n",
    "\n",
    "* Ondas Theta (4 a 8 Hz): Asociadas con estados de relajación profunda, meditación y ensoñaciones.\n",
    "\n",
    "* Ondas Alfa (8 a 13 Hz): Suelen presentarse cuando los ojos están cerrados y se relacionan con la relajación y la atención sin esfuerzo.\n",
    "\n",
    "* Ondas Beta (13 a 30 Hz): Están presentes durante la vigilia y la actividad mental, como el pensamiento lógico y la resolución de problemas.\n",
    "\n",
    "* Ondas Gamma (30 a 100 Hz): Asociadas con procesos cognitivos complejos y están siendo objeto de investigación en diversas áreas."
   ]
  },
  {
   "cell_type": "markdown",
   "metadata": {},
   "source": [
    "## Electromiografía"
   ]
  },
  {
   "cell_type": "markdown",
   "metadata": {},
   "source": [
    "Ancho de banda: 20 - 500 Hz"
   ]
  },
  {
   "cell_type": "markdown",
   "metadata": {},
   "source": [
    "## Electrooculografía"
   ]
  },
  {
   "cell_type": "markdown",
   "metadata": {},
   "source": [
    "Ancho de banda"
   ]
  },
  {
   "cell_type": "markdown",
   "metadata": {},
   "source": [
    "## Ondas de presión arterial"
   ]
  },
  {
   "cell_type": "markdown",
   "metadata": {},
   "source": []
  },
  {
   "cell_type": "markdown",
   "metadata": {},
   "source": [
    "## Fonocardiografía"
   ]
  },
  {
   "cell_type": "markdown",
   "metadata": {},
   "source": []
  },
  {
   "cell_type": "markdown",
   "metadata": {},
   "source": [
    "## Sonidos de Korotkoff"
   ]
  },
  {
   "cell_type": "markdown",
   "metadata": {},
   "source": []
  },
  {
   "attachments": {},
   "cell_type": "markdown",
   "metadata": {},
   "source": [
    "## Interferencias"
   ]
  },
  {
   "attachments": {},
   "cell_type": "markdown",
   "metadata": {},
   "source": [
    "Las interferencias son señales que se interponen en el registro de la actividad eléctrica de interés. Causando modificaciones morfológicas, lo cual llega a provocar."
   ]
  },
  {
   "attachments": {},
   "cell_type": "markdown",
   "metadata": {},
   "source": [
    "### Interferencias biológicas"
   ]
  },
  {
   "attachments": {},
   "cell_type": "markdown",
   "metadata": {},
   "source": [
    "Son producidas por el mismo sujeto de estudio, pueden ser producidos por los siguientes mecanismos:\n",
    "* El electrodo está localizada cerca de otra fuente eléctrica biológica además de la de interés.\n",
    "* El electrodo se encuentra localizado sobre una vena donde la pulsación de la misma produce un artefacto de movimiento determinista.\n",
    "* La sudoración del sujeto produce un mal contacto con en la interfaz electrodo-electrólito, atenuando la amplitud del registro. "
   ]
  },
  {
   "attachments": {},
   "cell_type": "markdown",
   "metadata": {},
   "source": [
    "#### Interferencias de la línea"
   ]
  },
  {
   "attachments": {},
   "cell_type": "markdown",
   "metadata": {},
   "source": [
    "Es cuando a la señal biológica de interés se le suma una senoide de 60Hz proveniente de la instalación o línea eléctrica.\n",
    "*  El voltaje de alimentación en corriente directa de los amplificadores contienen un rizo (corriente alterna) considerablemente alto para percibirse en el registro.\n",
    "*  Hay corrientes de fuga por el efecto capacitivo del ambiente que se filtran hacia los cables del paciente.\n",
    "*  Corrientes de fuga filtradas hacia el paciente, produciendo voltajes en modo común  en cada electrodo. **\n",
    "*  Se crean corrientes entre tierras físicas (referencias eléctricas) debido a dos equipos eléctricos conectados a un mismo paciente y con diferente cable de conexión de corriente física."
   ]
  }
 ],
 "metadata": {
  "language_info": {
   "name": "python"
  },
  "orig_nbformat": 4
 },
 "nbformat": 4,
 "nbformat_minor": 2
}
