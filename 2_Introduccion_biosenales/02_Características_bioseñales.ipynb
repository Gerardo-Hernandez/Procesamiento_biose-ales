{
 "cells": [
  {
   "attachments": {},
   "cell_type": "markdown",
   "metadata": {},
   "source": [
    "# Características de las bioseñales"
   ]
  },
  {
   "attachments": {},
   "cell_type": "markdown",
   "metadata": {},
   "source": [
    "## Electrocardiografía"
   ]
  },
  {
   "attachments": {},
   "cell_type": "markdown",
   "metadata": {},
   "source": [
    "Ancho de banda: 0.05 - 100 Hz\n",
    "\n",
    "* Onda P: La frecuencia de la onda P está generalmente en el rango de 8 a 12 Hz.\n",
    "* Complejo QRS: La frecuencia del complejo QRS es típicamente de aproximadamente 10 a 16.7 Hz.\n",
    "* Onda T: La frecuencia de la onda T puede variar, pero generalmente está en el rango de 0.4 a 1 Hz.\n",
    "* Intervalo PR: La frecuencia del intervalo PR está en el rango de 5 a 8.3 Hz.\n",
    "* Intervalo QT: La frecuencia del intervalo QT varía con la frecuencia cardíaca.\n",
    "\n",
    "Amplitud: $mV$"
   ]
  },
  {
   "cell_type": "markdown",
   "metadata": {},
   "source": [
    "<img src = \"../figures/ECG.jpg\" alt = \"Electrocardiografía y las ondas que la componen.\"  width = \"750\" height = \"475\">"
   ]
  },
  {
   "attachments": {},
   "cell_type": "markdown",
   "metadata": {},
   "source": [
    "## Electroencefalografía"
   ]
  },
  {
   "attachments": {},
   "cell_type": "markdown",
   "metadata": {},
   "source": [
    "Ancho de banda: 0.5 - 100 Hz. \n",
    "A su vez esa este rango se divide en diferentes bandas de frecuencia, cada una asociada con diferentes estados mentales y actividades cerebrales:\n",
    "\n",
    "* Ondas Delta (0.5 a 4 Hz): Se encuentran predominantemente en el sueño profundo y en algunas condiciones patológicas.\n",
    "\n",
    "* Ondas Theta (4 a 8 Hz): Asociadas con estados de relajación profunda, meditación y ensoñaciones.\n",
    "\n",
    "* Ondas Alfa (8 a 13 Hz): Suelen presentarse cuando los ojos están cerrados y se relacionan con la relajación y la atención sin esfuerzo.\n",
    "\n",
    "* Ondas Beta (13 a 30 Hz): Están presentes durante la vigilia y la actividad mental, como el pensamiento lógico y la resolución de problemas.\n",
    "\n",
    "* Ondas Gamma (30 a 100 Hz): Asociadas con procesos cognitivos complejos y están siendo objeto de investigación en diversas áreas.\n",
    "\n",
    "Amplitud: $\\mu V$"
   ]
  },
  {
   "cell_type": "markdown",
   "metadata": {},
   "source": [
    "<img src = \"../figures/EEG.jpg\" alt = \"Electroencefalografía.\"  width = \"750\" height = \"475\">"
   ]
  },
  {
   "cell_type": "markdown",
   "metadata": {},
   "source": [
    "<img src = \"../figures/EEG_waves.jpg\" alt = \"Ondas que componen un EEG.\"  width = \"700\" height = \"700\">"
   ]
  },
  {
   "cell_type": "markdown",
   "metadata": {},
   "source": [
    "## Electromiografía"
   ]
  },
  {
   "cell_type": "markdown",
   "metadata": {},
   "source": [
    "Ancho de banda: 20 - 500 Hz\n",
    "\n",
    "Amplitud: $mV$"
   ]
  },
  {
   "cell_type": "markdown",
   "metadata": {},
   "source": [
    "<img src = \"../figures/EMG.png\" alt = \"Electromiografía superficial de brazo.\" width = \"600\" height = \"750\">"
   ]
  },
  {
   "cell_type": "markdown",
   "metadata": {},
   "source": [
    "## Electrooculografía"
   ]
  },
  {
   "cell_type": "markdown",
   "metadata": {},
   "source": [
    "Ancho de banda: 0.1 - 100Hz\n",
    "\n",
    "Nota: Ancho de banda de frecuencia: El oculograma generalmente se enfoca en frecuencias relativamente bajas, ya que la mayoría de los movimientos oculares no ocurren a frecuencias muy altas. Sin embargo, el rango de frecuencias puede variar dependiendo del propósito específico del estudio y del equipo utilizado para realizar el registro.\n",
    "\n",
    "Amplitud: $\\mu V$"
   ]
  },
  {
   "cell_type": "markdown",
   "metadata": {},
   "source": [
    "<img src = \"../figures/EOG.jpg\" alt = \"Electrooculografía.\"  width = \"650\" height = \"450\">|"
   ]
  },
  {
   "cell_type": "markdown",
   "metadata": {},
   "source": [
    "<img src = \"../figures/EOG_r.png\" width = \"650\" height = \"300\">"
   ]
  },
  {
   "cell_type": "markdown",
   "metadata": {},
   "source": [
    "## Ondas de presión arterial"
   ]
  },
  {
   "cell_type": "markdown",
   "metadata": {},
   "source": [
    "Frecuencia: 60-120 latidos/minuto\n",
    "\n",
    "Amplitud: mmHG"
   ]
  },
  {
   "cell_type": "markdown",
   "metadata": {},
   "source": [
    "<img src = \"../figures/OPA.jpeg\" alt = \"Ondas de presión arterial y las ondas que la componen.\"  width = \"750\" height = \"475\">"
   ]
  },
  {
   "cell_type": "markdown",
   "metadata": {},
   "source": [
    "## Fonocardiografía"
   ]
  },
  {
   "cell_type": "markdown",
   "metadata": {},
   "source": [
    "Ancho de banda: 20 - 200Hz\n",
    "\n",
    "Amplitud: $mV$"
   ]
  },
  {
   "cell_type": "markdown",
   "metadata": {},
   "source": [
    "<img src = \"../figures/FCG.jpg\" alt = \"Fonocardiograma y como se compone.\"  width = \"700\" height = \"475\">"
   ]
  },
  {
   "cell_type": "markdown",
   "metadata": {},
   "source": [
    "## Sonidos de Korotkoff"
   ]
  },
  {
   "cell_type": "markdown",
   "metadata": {},
   "source": [
    "No se tiene un ancho de banda y amplitud definidos."
   ]
  },
  {
   "cell_type": "markdown",
   "metadata": {},
   "source": [
    "<img src = \"../figures/SK.jpg\" alt = \"Electrocardiografía y las ondas que la componen.\"  width = \"500\" height = \"475\">"
   ]
  },
  {
   "attachments": {},
   "cell_type": "markdown",
   "metadata": {},
   "source": [
    "## Interferencias"
   ]
  },
  {
   "attachments": {},
   "cell_type": "markdown",
   "metadata": {},
   "source": [
    "Las interferencias son señales que se interponen en el registro de la actividad eléctrica de interés. Causando modificaciones morfológicas, lo cual llega a provocar."
   ]
  },
  {
   "attachments": {},
   "cell_type": "markdown",
   "metadata": {},
   "source": [
    "### Interferencias biológicas"
   ]
  },
  {
   "attachments": {},
   "cell_type": "markdown",
   "metadata": {},
   "source": [
    "Son producidas por el mismo sujeto de estudio, pueden ser producidos por los siguientes mecanismos:\n",
    "* El electrodo está localizada cerca de otra fuente eléctrica biológica además de la de interés.\n",
    "* El electrodo se encuentra localizado sobre una vena donde la pulsación de la misma produce un artefacto de movimiento determinista.\n",
    "* La sudoración del sujeto produce un mal contacto con en la interfaz electrodo-electrólito, atenuando la amplitud del registro. "
   ]
  },
  {
   "attachments": {},
   "cell_type": "markdown",
   "metadata": {},
   "source": [
    "#### Interferencias de la línea"
   ]
  },
  {
   "attachments": {},
   "cell_type": "markdown",
   "metadata": {},
   "source": [
    "Es cuando a la señal biológica de interés se le suma una senoide de 60Hz proveniente de la instalación o línea eléctrica.\n",
    "*  El voltaje de alimentación en corriente directa de los amplificadores contienen un rizo (corriente alterna) considerablemente alto para percibirse en el registro.\n",
    "*  Hay corrientes de fuga por el efecto capacitivo del ambiente que se filtran hacia los cables del paciente.\n",
    "*  Corrientes de fuga filtradas hacia el paciente, produciendo voltajes en modo común  en cada electrodo. **\n",
    "*  Se crean corrientes entre tierras físicas (referencias eléctricas) debido a dos equipos eléctricos conectados a un mismo paciente y con diferente cable de conexión de corriente física."
   ]
  }
 ],
 "metadata": {
  "language_info": {
   "name": "python"
  },
  "orig_nbformat": 4
 },
 "nbformat": 4,
 "nbformat_minor": 2
}
