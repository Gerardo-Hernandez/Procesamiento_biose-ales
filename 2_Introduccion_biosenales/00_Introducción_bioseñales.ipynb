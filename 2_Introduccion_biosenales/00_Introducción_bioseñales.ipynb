{
 "cells": [
  {
   "attachments": {},
   "cell_type": "markdown",
   "metadata": {},
   "source": [
    "# Introducción a bioseñales"
   ]
  },
  {
   "attachments": {},
   "cell_type": "markdown",
   "metadata": {},
   "source": [
    "Las bioseñales son señales eléctricas, mecánicas o químicas generadas por organismos vivos. Estas señales nos proporcionan información valiosa sobre el funcionamiento de los sistemas biológicos ya que pueden ser utilizadas para comprender y diagnosticar diversas condiciones de salud."
   ]
  },
  {
   "attachments": {},
   "cell_type": "markdown",
   "metadata": {},
   "source": [
    "### Señales eléctricas"
   ]
  },
  {
   "attachments": {},
   "cell_type": "markdown",
   "metadata": {},
   "source": [
    "<div style=\"text-align: justify\">\n",
    "Las señales eléctricas (bioeléctricas) son impulsos eléctricos generados por los sistemas biológicos, como el cerebro, el corazón, los músculos, otras células y tejidos del cuerpo humano. Estas señales proporcionan información valiosa sobre el funcionamiento interno de nuestro organismo, los cuales son fundamentales para comprender y monitorear diversas condiciones médicas y fisiológicas.\n",
    "\n",
    "Una de las bioseñales eléctricas más estudiadas es el electrocardiograma (ECG), que registra la actividad eléctrica del corazón. El ECG es ampliamente utilizado para diagnosticar enfermedades cardíacas, evaluar la función cardíaca y monitorear el ritmo cardíaco durante diferentes actividades.\n",
    "\n",
    "Otra señal bioeléctrica importante es el electroencefalograma (EEG), que mide las corrientes eléctricas generadas por las células cerebrales. El EEG ha sido fundamental en la investigación del cerebro, el diagnóstico de trastornos neurológicos y la comprensión de los estados mentales y las funciones cognitivas.\n",
    "\n",
    "Además del ECG y el EEG, existen otras bioseñales eléctricas relevantes, como el electromiograma (EMG), que registra la actividad eléctrica de los músculos, y el electroretinograma (ERG), que mide las respuestas eléctricas de la retina.\n",
    "\n",
    "El procesamiento de bioseñales eléctricas implica la adquisición de las señales mediante electrodos colocados en la superficie del cuerpo, su amplificación y filtrado para mejorar la calidad de la señal, así como el análisis y la interpretación de los datos para extraer información relevante.\n",
    "<div/>"
   ]
  },
  {
   "attachments": {},
   "cell_type": "markdown",
   "metadata": {},
   "source": [
    "<img src=\"../figures/ECG_int.png\" alt=\"Descripción de la imagen\" width=\"1000\" height=\"600\">"
   ]
  },
  {
   "attachments": {},
   "cell_type": "markdown",
   "metadata": {},
   "source": [
    "### Señales mecánicas"
   ]
  },
  {
   "attachments": {},
   "cell_type": "markdown",
   "metadata": {},
   "source": [
    "<div style=\"text-align: justify\">\n",
    "Las bioseñales mecánicas son señales generadas por movimientos y fuerzas mecánicas en los sistemas biológicos. Estas señales proveen información sobre el comportamiento y la respuesta de diferentes tejidos y órganos del cuerpo humano ante distintos estímulos físicos.\n",
    "\n",
    "Las bioseñales mecánicas se originan en una variedad de fuentes biológicas, como el sistema musculoesquelético, los vasos sanguíneos, los tejidos conectivos y los órganos internos. Estas señales pueden ser capturadas y analizadas para comprender mejor el funcionamiento y la salud de los sistemas biológicos, así como para diagnosticar y monitorear condiciones médicas.\n",
    "\n",
    "Algunos ejemplos comunes de bioseñales mecánicas incluyen la presión arterial, la fuerza muscular, el movimiento del cuerpo, el pulso arterial y la actividad del sistema respiratorio. Estas señales son importantes para evaluar la función cardiovascular, la actividad física, la biomecánica y otros aspectos relacionados con el sistema musculoesquelético.\n",
    "\n",
    "El procesamiento de bioseñales mecánicas implica la adquisición precisa de estas señales utilizando sensores especializados, como transductores de presión, acelerómetros, sensores de fuerza y dispositivos de imagen médica. Posteriormente, se aplican técnicas de procesamiento de señales para analizar y extraer información relevante de los datos registrados.\n"
   ]
  },
  {
   "attachments": {},
   "cell_type": "markdown",
   "metadata": {},
   "source": [
    "<img src=\"../figures/Fuerza_png.webp\" alt=\"Descripción de la imagen\" width=\"1000\" height=\"700\">"
   ]
  },
  {
   "attachments": {},
   "cell_type": "markdown",
   "metadata": {},
   "source": [
    "### Señales químicas"
   ]
  },
  {
   "attachments": {},
   "cell_type": "markdown",
   "metadata": {},
   "source": [
    "Las bioseñales químicas son señales generadas por reacciones químicas y procesos bioquímicos que ocurren en los sistemas biológicos. Estas señales transmiten información crucial sobre el estado fisiológico, las interacciones celulares y los procesos bioquímicos en el cuerpo humano.\n",
    "\n",
    "Las bioseñales químicas se originan a partir de diversas moléculas y compuestos presentes en el organismo, como hormonas, neurotransmisores, metabolitos y sustancias químicas involucradas en las vías de señalización celular. Estas señales químicas son responsables de regular y coordinar una amplia gama de funciones biológicas.\n",
    "\n",
    "El procesamiento de bioseñales químicas implica la detección y cuantificación de estas moléculas en muestras biológicas, como sangre, orina, saliva o tejidos. Se utilizan métodos y técnicas analíticas específicas, como la cromatografía, la espectroscopia y las técnicas inmunológicas, para identificar y medir la concentración de las sustancias químicas de interés."
   ]
  },
  {
   "attachments": {},
   "cell_type": "markdown",
   "metadata": {},
   "source": [
    "<img src=\"../figures/Globulos_rojos_int.webp\" alt=\"Descripción de la imagen\" width=\"1000\" height=\"600\">"
   ]
  },
  {
   "attachments": {},
   "cell_type": "markdown",
   "metadata": {},
   "source": [
    "## Adquisición "
   ]
  },
  {
   "attachments": {},
   "cell_type": "markdown",
   "metadata": {},
   "source": [
    "Señales bioélectrica se registran a través de diferentes métodos y tipos de sensores, por ejemplo.\n",
    "\n",
    "1. Electrodos: Son sensores utilizados para medir bioseñales eléctricas, como el ECG, el EEG y el EMG. Los electrodos se colocan en la superficie o dentro del cuerpo y registran las corrientes eléctricas generadas por las células o tejidos.\n",
    "\n",
    "2. Sensores de presión: Estos sensores se utilizan para medir la presión arterial, la fuerza de agarre y otras bioseñales mecánicas. Pueden consistir en dispositivos como transductores de presión o sensores de deformación.\n",
    "\n",
    "3. Acelerómetros: Son sensores utilizados para medir la aceleración lineal y la orientación. Se emplean en aplicaciones de bioseñales para capturar información sobre el movimiento corporal y la actividad física.\n",
    "\n",
    "4. Fotopletismógrafos: Estos sensores ópticos se utilizan para medir cambios en el volumen de un tejido, como la piel, en respuesta a la variación del flujo sanguíneo. Se utilizan, por ejemplo, para obtener el pulso arterial o la frecuencia cardíaca.\n",
    "\n",
    "5. Sensores de temperatura: Estos sensores miden la temperatura corporal y se utilizan en aplicaciones médicas para monitorizar la temperatura interna o detectar cambios térmicos en la piel.\n",
    "\n",
    "6. Sensores de gases y metabolitos: Estos sensores se utilizan para medir la concentración de gases y metabolitos en muestras biológicas, como el dióxido de carbono (CO2) en la respiración o la glucosa en la sangre.\n",
    "\n",
    "7. Sensores de imagen médica: Estos sensores, como las cámaras o los escáneres, se utilizan para adquirir imágenes médicas en aplicaciones como la tomografía computarizada (TC), la resonancia magnética (RM) y la ecografía.\n",
    "\n",
    "En caso de realizar registros digitales debe tomarse en consideración la frecuencia del fenómeno que se quiere registrar y la frecuencia de muestreo."
   ]
  },
  {
   "attachments": {},
   "cell_type": "markdown",
   "metadata": {},
   "source": [
    "<img src=\"../figures/Sensores_int.png\" alt=\"Descripción de la imagen\" width=\"1000\" height=\"400\">"
   ]
  },
  {
   "attachments": {},
   "cell_type": "markdown",
   "metadata": {},
   "source": [
    "## Procesamiento"
   ]
  },
  {
   "attachments": {},
   "cell_type": "markdown",
   "metadata": {},
   "source": [
    "El procesamiento de bioseñales bioeléctricas es un campo multidisciplinario que combina la electrónica, la física, la fisiología y la ingeniería para adquirir, analizar y extraer información significativa de estas señales. El objetivo principal del procesamiento de bioseñales es revelar patrones, características y eventos relevantes que permitan comprender mejor el funcionamiento del sistema biológico bajo estudio.\n",
    "\n",
    "El procesamiento de bioseñales bioeléctricas implica una serie de etapas, el acondicionamiento de las señales para mejorar su calidad, la extracción de características relevantes, el análisis y la interpretación de los datos, y la toma de decisiones basada en estos resultados.\n",
    "\n",
    "El procesamiento puede incluir técnicas y algoritmos basados en inteligencia artificial, como redes neuronales, para extraer información relevante y realizar análisis cuantitativos. Esto puede incluir la detección de patrones, la identificación de características distintivas, la clasificación de señales, la detección de eventos anormales y la interpretación de resultados, obteniendo avances en el diagnóstico, la predicción y la monitorización de enfermedades."
   ]
  },
  {
   "attachments": {},
   "cell_type": "markdown",
   "metadata": {},
   "source": [
    "<div style=\"background-color: #F2F2F2;\">\n",
    "    <img src=\"../figures/Procesamiento_int.avif\" alt=\"Descripción de la imagen\" width=\"1000\" height=\"600\">\n",
    "</div>"
   ]
  },
  {
   "attachments": {},
   "cell_type": "markdown",
   "metadata": {},
   "source": [
    "## Aplicaciones"
   ]
  },
  {
   "attachments": {},
   "cell_type": "markdown",
   "metadata": {},
   "source": [
    "El estudio de las bioseñales abarca una amplia gama de aplicaciones, desde la medicina y la biología hasta la neurociencia y la ingeniería biomédica.\n",
    "\n",
    "* Diagnóstico médico: Las bioseñales se utilizan para diagnosticar y monitorear diversas condiciones médicas. Por ejemplo, el ECG se utiliza para detectar enfermedades cardíacas, el EEG para diagnosticar trastornos neurológicos y el EMG para evaluar trastornos musculares.\n",
    "\n",
    "* Monitoreo de la salud: Las bioseñales se utilizan para monitorear el estado de salud de los pacientes. Por ejemplo, el monitoreo ambulatorio de la presión arterial (MAPA) registra la presión arterial durante un período prolongado, y los dispositivos de seguimiento de actividad física registran la actividad física y los patrones de sueño.\n",
    "\n",
    "* Rehabilitación y terapia física: Las bioseñales se utilizan en terapias de rehabilitación y físicas para evaluar el progreso y el rendimiento de los pacientes. Por ejemplo, el EMG se utiliza para evaluar la actividad muscular durante la rehabilitación de lesiones y para controlar prótesis y dispositivos de asistencia.\n",
    "\n",
    "* Interfaces cerebro-computadora: Las bioseñales cerebrales, como el EEG, se utilizan para desarrollar interfaces cerebro-computadora que permiten a las personas controlar dispositivos y realizar acciones utilizando solo la actividad cerebral.\n",
    "\n",
    "* Control de prótesis y dispositivos médicos: Las bioseñales, como las señales musculares o cerebrales, se utilizan para controlar prótesis y dispositivos médicos, permitiendo a las personas con discapacidades físicas realizar movimientos y tareas.\n",
    "\n",
    "* Estudio del sueño: Las bioseñales, como el EEG y el EMG, se utilizan en el estudio del sueño para analizar los patrones de sueño, detectar trastornos del sueño y evaluar la calidad del descanso.\n",
    "\n",
    "* Investigación en neurociencia y psicología: Las bioseñales, como el EEG y el fMRI (resonancia magnética funcional), se utilizan en la investigación para estudiar la actividad cerebral y los procesos cognitivos, como la atención, la percepción y la memoria.\n",
    "\n",
    "* Control del estrés y bienestar emocional: Las bioseñales, como las respuestas de la frecuencia cardíaca y la variabilidad del ritmo cardíaco, se utilizan para evaluar y gestionar el estrés y el bienestar emocional en entornos clínicos y de bienestar."
   ]
  },
  {
   "attachments": {},
   "cell_type": "markdown",
   "metadata": {},
   "source": [
    "<img src=\"../figures/Aplicaciones_int.jpg\" alt=\"Descripción de la imagen\" width=\"600\" height=\"600\">"
   ]
  },
  {
   "attachments": {},
   "cell_type": "markdown",
   "metadata": {},
   "source": [
    "## Conclusiones"
   ]
  },
  {
   "attachments": {},
   "cell_type": "markdown",
   "metadata": {},
   "source": [
    "* Las señales bioeléctricas son impulsos eléctricos generados por los sistemas biológicos. Estas señales proporcionan información valiosa sobre el funcionamiento interno del organismo y se utilizan para diagnosticar enfermedades, evaluar la función de órganos y tejidos, así como monitorizar la salud. El procesamiento de bioseñales eléctricas implica la adquisición, amplificación, filtrado y análisis de estas señales para extraer información relevante.\n",
    "\n",
    "* El procesamiento de las señales bioeléctricas es una disciplina en constante evolución que utiliza técnicas de procesamiento de señales y algoritmos de IA para comprender y aprovechar la información contenida en las señales eléctricas generadas por el cuerpo humano. Estos avances tienen un gran potencial para mejorar el diagnóstico y el tratamiento de diversas afecciones médicas, así como para avanzar en la comprensión de la fisiología y la función del organismo humano.\n",
    "\n",
    "* Las bioseñales mecánicas son señales generadas por movimientos y fuerzas mecánicas en los sistemas biológicos. \n",
    "\n",
    "* Las bioseñales químicas son señales generadas por reacciones químicas y procesos bioquímicos en los sistemas biológicos. El análisis y la detección de estas señales proporcionan información esencial sobre el estado fisiológico, las interacciones celulares y los procesos bioquímicos en el cuerpo humano. El estudio de las bioseñales químicas es vital en el diagnóstico médico, la investigación farmacológica y la comprensión de los mecanismos biológicos. Esto permite avanzar en el conocimiento de las enfermedades, la respuesta inmunológica, la farmacocinética de los fármacos y otros procesos biológicos fundamentales.\n",
    "\n",
    "* La combinación de bioseñales y técnicas de inteligencia artificial ha abierto nuevas oportunidades en la medicina personalizada, la monitorización de pacientes, la rehabilitación, la interfaz cerebro-computadora y muchos otros campos. Estas tecnologías nos permiten obtener una comprensión más profunda de la fisiología humana y mejorar la calidad de vida de las personas. El procesamiento de bioseñales y la inteligencia artificial son áreas interdisciplinarias que se complementan entre sí para extraer información valiosa de las señales biológicas. Al utilizar técnicas avanzadas de análisis y aprendizaje automático, lo cual conlleva a diagnósticos más precisos, tratamientos más eficaces y una mejor comprensión de los sistemas biológicos."
   ]
  }
 ],
 "metadata": {
  "kernelspec": {
   "display_name": "Python 3",
   "language": "python",
   "name": "python3"
  },
  "language_info": {
   "codemirror_mode": {
    "name": "ipython",
    "version": 3
   },
   "file_extension": ".py",
   "mimetype": "text/x-python",
   "name": "python",
   "nbconvert_exporter": "python",
   "pygments_lexer": "ipython3",
   "version": "3.10.6"
  },
  "orig_nbformat": 4
 },
 "nbformat": 4,
 "nbformat_minor": 2
}
