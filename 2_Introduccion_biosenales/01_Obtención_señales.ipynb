{
 "cells": [
  {
   "attachments": {},
   "cell_type": "markdown",
   "metadata": {},
   "source": [
    "# Obtención de señales"
   ]
  },
  {
   "attachments": {},
   "cell_type": "markdown",
   "metadata": {},
   "source": [
    "## Adquisición de señales"
   ]
  },
  {
   "attachments": {},
   "cell_type": "markdown",
   "metadata": {},
   "source": [
    "### Digitalización de señales"
   ]
  },
  {
   "attachments": {},
   "cell_type": "markdown",
   "metadata": {},
   "source": [
    "<div style=\"text-align: justify\">\n",
    "La información contenida en una señal analógica se encuentra no sólo en el valor que presenta en determinado momento, sino también en la forma en que varía, en los valores máximos y mínimos que alcanza, así como en las reglas que sigue para modificar su valor en el tiempo. Para extraer esta información se requiere conocerla exactamente durante un intervalo de tiempo, para que sea posible analizarla.\n",
    "\n",
    "Como en la actualidad el procedimiento de análisis recurre a la asistencia de la computadora y ésta trabaja con un formato completamente distinto del analógico, se hace necesario que esta señal sea transformada al formato digital a fin de que pueda ser compatible con los procesos internos de la computadora. Para lograr esta transformación, se hace uso de dos procedimientos que sirven para reducir a una cantidad finita y manejable los valores infinitos presentados por una función analógica. Estos procedimientos son el muestreo y la cuantización. El muestreo realiza una parte de la transformación o conversión entre los formatos, ya que hace que el tiempo sea discreto. Al muestrear se consigue que la señal original pueda representarse por completo y sin pérdida de información, utilizando únicamente las muestras tomadas."
   ]
  },
  {
   "attachments": {},
   "cell_type": "markdown",
   "metadata": {},
   "source": [
    "#### Frecuencia de muestreo"
   ]
  },
  {
   "cell_type": "markdown",
   "metadata": {},
   "source": [
    "**Teorema de Nyquist**\n",
    "\n",
    "El teorema de Nyquist fue formulado por el ingeniero electrónico Harry Nyquist. Establece que para evitar la pérdida de información al muestrear una señal analógica y convertirla a una señal digital, la frecuencia de muestreo debe ser al menos el doble de la frecuencia más alta presente en la señal analógica.\n",
    "$Fs ≥ 2F_{max}$\n",
    "Donde $FS$ es la frecuencia de muestreo y $F_{max}$ es la frecuencía máxima presente en la señal analógica.\n",
    "\n",
    "Es importante destacar que si la frecuencia de muestreo no cumple con esta condición, la señal resultante digital puede sufrir de aliasing, que es una distorsión que ocurre cuando no se capturan suficientes puntos para representar adecuadamente la señal original.\n"
   ]
  },
  {
   "cell_type": "markdown",
   "metadata": {},
   "source": [
    "#### Ganancia"
   ]
  },
  {
   "cell_type": "markdown",
   "metadata": {},
   "source": [
    "Para obtener una representación digital precisa de la señal, es necesario ajustar la ganancia adecuadamente para que la amplitud de la señal se ajuste dentro del rango de representación del sistema digital sin llegar a la **saturación**, evitando así la pérdida de información y la **introducción de ruido**. El ajuste adecuado de la ganancia garantiza que la señal se capture de manera óptima y se mantenga la fidelidad en la representación digital."
   ]
  },
  {
   "cell_type": "markdown",
   "metadata": {},
   "source": [
    "#### Filtros"
   ]
  },
  {
   "attachments": {},
   "cell_type": "markdown",
   "metadata": {},
   "source": [
    "El ajustar los filtros al digitalizar una señal es esencial para garantizar una representación digital precisa y libre de distorsiones. Los filtros adecuados ayudan a evitar el aliasing, reducir el ruido y los artefactos, seleccionar la banda de frecuencia relevante y mejorar la eficiencia general del proceso de digitalización. De esta manera, se obtiene una señal digital de mayor calidad y utilidad."
   ]
  },
  {
   "cell_type": "markdown",
   "metadata": {},
   "source": [
    "### Dispositivos comerciales"
   ]
  },
  {
   "cell_type": "markdown",
   "metadata": {},
   "source": [
    "* **B10ware**       https://www.facebook.com/b10ware\n",
    "* **OpenBCI**       https://shop.openbci.com/collections/frontpage\n",
    "* **Biopac**        https://www.biopac.com\n",
    "* **Bitbrain**      https://www.bitbrain.com/es\n",
    "* **Unicorn**       https://www.unicorn-bi.com/es/"
   ]
  },
  {
   "cell_type": "markdown",
   "metadata": {},
   "source": [
    "<img src = \"../figures/Biowave.png\" width = \"300\" height = \"300\">\n",
    "<img src = \"../figures/OpenBCI.webp\" width = \"300\" height = \"300\">\n",
    "<img src = \"../figures/Biopac.jpg\" width = \"400\" height = \"300\">\n",
    "<img src = \"../figures/Bitbrain.webp\" width = \"400\" height = \"300\">\n",
    "<img src = \"../figures/Unicorn.jpg\" width = \"400\" height = \"300\">"
   ]
  },
  {
   "attachments": {},
   "cell_type": "markdown",
   "metadata": {},
   "source": [
    "## Bases de datos"
   ]
  },
  {
   "attachments": {},
   "cell_type": "markdown",
   "metadata": {},
   "source": [
    "* Kaggle: https://www.kaggle.com/datasets?topic=healthDataset\n",
    "* Mendeley Data: https://data.mendeley.com/\n",
    "* IEEE DataPort: https://ieee-dataport.org/topic-tags/biomedical-and-health-sciences\n",
    "* PysioNet: https://physionet.org/about/database/\n",
    "* Data in Brief: https://www.data-in-brief.com/\n",
    "* Dataset Search: https://datasetsearch.research.google.com/"
   ]
  },
  {
   "attachments": {},
   "cell_type": "markdown",
   "metadata": {},
   "source": [
    "### Formatos en los que se pueden encontrar"
   ]
  },
  {
   "attachments": {},
   "cell_type": "markdown",
   "metadata": {},
   "source": [
    "#### .mat"
   ]
  },
  {
   "attachments": {},
   "cell_type": "markdown",
   "metadata": {},
   "source": [
    "Los archivos .mat son archivos de datos que se utilizan comúnmente en MATLAB, un entorno de programación y software ampliamente utilizado en ciencia e ingeniería. Estos archivos .mat contienen variables y matrices multidimensionales, así como metadatos asociados."
   ]
  },
  {
   "cell_type": "code",
   "execution_count": null,
   "metadata": {
    "vscode": {
     "languageId": "plaintext"
    }
   },
   "outputs": [],
   "source": [
    "# pip install scipy\n",
    "from scipy import io\n",
    "\n",
    "# Cargar el archivo .mat\n",
    "data = io.loadmat('archivo.mat')"
   ]
  },
  {
   "attachments": {},
   "cell_type": "markdown",
   "metadata": {},
   "source": [
    "#### .npy o npz"
   ]
  },
  {
   "attachments": {},
   "cell_type": "markdown",
   "metadata": {},
   "source": [
    "Los archivos de extensión .npy son archivos de datos de NumPy, una biblioteca de Python utilizada para el procesamiento numérico y científico. Estos archivos .npy almacenan matrices y arreglos multidimensionales de datos de forma eficiente.\n",
    "\n",
    "Los archivos .npz son archivos comprimidos que contienen múltiples archivos .npy de NumPy. Estos archivos .npz son útiles cuando se desea almacenar y cargar varios arreglos o matrices de NumPy de manera eficiente en un solo archivo."
   ]
  },
  {
   "cell_type": "code",
   "execution_count": null,
   "metadata": {
    "vscode": {
     "languageId": "plaintext"
    }
   },
   "outputs": [],
   "source": [
    "# pip install numpy\n",
    "from numpy as np\n",
    "\n",
    "# cargar archivo .npy\n",
    "data = np.load('archivo.npy')\n",
    "\n",
    "# cargar archivo .npy\n",
    "data = np.load('archivo.npy')"
   ]
  },
  {
   "attachments": {},
   "cell_type": "markdown",
   "metadata": {},
   "source": [
    "#### .edf"
   ]
  },
  {
   "attachments": {},
   "cell_type": "markdown",
   "metadata": {},
   "source": [
    "Un archivo EDF (European Data Format) es un formato de archivo utilizado para almacenar y compartir datos de señales fisiológicas y bioseñales, como electroencefalogramas (EEG), electrocardiogramas (ECG) y electromiogramas (EMG). Fue desarrollado por la Federación Internacional de Electrofisiología Clínica y está ampliamente utilizado en la comunidad médica y de investigación."
   ]
  },
  {
   "cell_type": "code",
   "execution_count": null,
   "metadata": {
    "vscode": {
     "languageId": "plaintext"
    }
   },
   "outputs": [],
   "source": [
    "# pip import pyedflib\n",
    "import pyedflib\n",
    "\n",
    "# abrir archivo edf\n",
    "file = pyedflib.EdfReader('archivo.edf')\n",
    "\n",
    "# obtener información sobre las señales en el archivo\n",
    "num_signals = file.signals_in_file\n",
    "signal_labels = file.getSignalLabels()\n",
    "\n",
    "# leer las señales del archivo\n",
    "signals = []\n",
    "for i in range(num_signals):\n",
    "    signal = file.readSignal(i)\n",
    "    signals.append(signal)\n",
    "\n",
    "# cerrar el archivo EDF\n",
    "file.close()"
   ]
  },
  {
   "attachments": {},
   "cell_type": "markdown",
   "metadata": {},
   "source": [
    "#### .txt"
   ]
  },
  {
   "attachments": {},
   "cell_type": "markdown",
   "metadata": {},
   "source": [
    "Un archivo de texto (.txt) es un archivo que contiene texto sin formato, es decir, caracteres y cadenas de texto legibles por humanos sin ninguna estructura específica. Los archivos de texto son comunes y se utilizan para almacenar y compartir datos en forma de texto plano."
   ]
  },
  {
   "cell_type": "code",
   "execution_count": null,
   "metadata": {
    "vscode": {
     "languageId": "plaintext"
    }
   },
   "outputs": [],
   "source": [
    "# pip install numpy\n",
    "import numpy as np\n",
    "\n",
    "# cargar archivo txt\n",
    "data = np.loadtxt('archivo.txt')"
   ]
  },
  {
   "attachments": {},
   "cell_type": "markdown",
   "metadata": {},
   "source": [
    "#### .csv, .tsv o .psv"
   ]
  },
  {
   "attachments": {},
   "cell_type": "markdown",
   "metadata": {},
   "source": [
    "Un archivo CSV (Comma-Separated Values) es un formato de archivo utilizado para almacenar datos tabulares en forma de texto plano. Cada línea del archivo representa una fila de datos, y los valores de cada columna están separados por comas u otros delimitadores.\n",
    "\n",
    "Un archivo TSV (Tab-Separated Values) es un formato de archivo utilizado para almacenar datos tabulares en forma de texto plano. Al igual que los archivos CSV, cada línea del archivo representa una fila de datos, pero en lugar de usar comas como separador, se utilizan tabulaciones.\n",
    "\n",
    "Un archivo PSV (Pipe-Separated Values) es un formato de archivo utilizado para almacenar datos tabulares en forma de texto plano. Al igual que los archivos CSV y TSV, cada línea del archivo representa una fila de datos, pero en lugar de utilizar comas o tabulaciones como separadores, se utilizan tuberías verticales (|) como separadores."
   ]
  },
  {
   "cell_type": "code",
   "execution_count": null,
   "metadata": {
    "vscode": {
     "languageId": "plaintext"
    }
   },
   "outputs": [],
   "source": [
    "# pip install pandas\n",
    "import pandas as pd \n",
    "\n",
    "# cargar archivo csv\n",
    "df = pd.read_csv('archivo.csv')\n",
    "\n",
    "# cargar archivo tsv\n",
    "df = pd.read_csv('archivo.tsv', sep='\\t')\n",
    "\n",
    "# cargar archivo psv\n",
    "df = pd.read_csv('archivo.psv', sep='|')"
   ]
  },
  {
   "attachments": {},
   "cell_type": "markdown",
   "metadata": {},
   "source": [
    "#### .wav u otros formatos de audio"
   ]
  },
  {
   "attachments": {},
   "cell_type": "markdown",
   "metadata": {},
   "source": [
    "Un archivo WAV (Waveform Audio File Format) es un formato de archivo de audio digital estándar utilizado para almacenar datos de audio sin comprimir. Los archivos WAV contienen muestras de audio grabadas a una determinada frecuencia de muestreo y con una precisión determinada."
   ]
  },
  {
   "cell_type": "code",
   "execution_count": null,
   "metadata": {
    "vscode": {
     "languageId": "plaintext"
    }
   },
   "outputs": [],
   "source": [
    "from pydub import AudioSegment\n",
    "\n",
    "song = AudioSegment.from_wav(\"never_gonna_give_you_up.wav\")\n",
    "\n",
    "song = AudioSegment.from_mp3(\"never_gonna_give_you_up.mp3\")"
   ]
  },
  {
   "attachments": {},
   "cell_type": "markdown",
   "metadata": {},
   "source": [
    "## Fuentes"
   ]
  },
  {
   "attachments": {},
   "cell_type": "markdown",
   "metadata": {},
   "source": [
    "scipy: https://docs.scipy.org/doc/scipy/\n",
    "numpy: https://numpy.org/\n",
    "pyedflib: https://pyedflib.readthedocs.io/en/latest/\n",
    "pandas: https://pandas.pydata.org/\n",
    "pydub: https://github.com/jiaaro/pydub"
   ]
  }
 ],
 "metadata": {
  "language_info": {
   "name": "python"
  },
  "orig_nbformat": 4
 },
 "nbformat": 4,
 "nbformat_minor": 2
}
